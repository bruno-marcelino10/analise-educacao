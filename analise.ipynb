{
 "cells": [
  {
   "cell_type": "code",
   "execution_count": 75,
   "metadata": {},
   "outputs": [],
   "source": [
    "import pandas as pd\n",
    "import numpy as np\n",
    "import seaborn as sns\n",
    "import matplotlib.pyplot as plt\n",
    "import scipy.stats as stats"
   ]
  },
  {
   "cell_type": "code",
   "execution_count": 57,
   "metadata": {
    "scrolled": true
   },
   "outputs": [
    {
     "data": {
      "text/html": [
       "<div>\n",
       "<style scoped>\n",
       "    .dataframe tbody tr th:only-of-type {\n",
       "        vertical-align: middle;\n",
       "    }\n",
       "\n",
       "    .dataframe tbody tr th {\n",
       "        vertical-align: top;\n",
       "    }\n",
       "\n",
       "    .dataframe thead th {\n",
       "        text-align: right;\n",
       "    }\n",
       "</style>\n",
       "<table border=\"1\" class=\"dataframe\">\n",
       "  <thead>\n",
       "    <tr style=\"text-align: right;\">\n",
       "      <th></th>\n",
       "      <th>Territorialidades</th>\n",
       "      <th>% de matrículas da rede pública no ensino fundamental 2017</th>\n",
       "      <th>% de matrículas da rede pública no ensino médio 2017</th>\n",
       "      <th>% de matrículas da rede privada no ensino fundamental 2017</th>\n",
       "      <th>% de matrículas da rede privada no ensino médio 2017</th>\n",
       "      <th>IDEB anos iniciais do ensino fundamental 2017</th>\n",
       "      <th>IDEB anos finais do ensino fundamental 2017</th>\n",
       "      <th>Média de anos de estudo 2012</th>\n",
       "      <th>Média de anos de estudo 2017</th>\n",
       "      <th>Taxa de analfabetismo - 15 anos ou mais de idade 2012</th>\n",
       "      <th>...</th>\n",
       "      <th>Desagregação MULHER % de 18 a 20 anos de idade com ensino médio completo PNAD...171</th>\n",
       "      <th>Desagregação MULHER % de 25 anos ou mais de idade com ensino médio completo PNAD...172</th>\n",
       "      <th>Desagregação MULHER % de 25 anos ou mais de idade com ensino médio completo PNAD...173</th>\n",
       "      <th>Desagregação MULHER % de 25 anos ou mais de idade com ensino superior completo PNAD...174</th>\n",
       "      <th>Desagregação MULHER % de 25 anos ou mais de idade com ensino superior completo PNAD...175</th>\n",
       "      <th>Desagregação NEGRO % de 6 a 14 anos no ensino fundamental com 2 anos ou mais de atraso idade-série PNAD...176</th>\n",
       "      <th>Desagregação NEGRO % de 6 a 14 anos no ensino fundamental com 2 anos ou mais de atraso idade-série PNAD...177</th>\n",
       "      <th>Desagregação NEGRO % de 15 a 17 anos de idade com ensino fundamental completo PNAD...178</th>\n",
       "      <th>Desagregação NEGRO % de 15 a 17 anos de idade com ensino fundamental completo PNAD...179</th>\n",
       "      <th>regiões</th>\n",
       "    </tr>\n",
       "  </thead>\n",
       "  <tbody>\n",
       "    <tr>\n",
       "      <th>0</th>\n",
       "      <td>Brasil</td>\n",
       "      <td>83.16</td>\n",
       "      <td>87.76</td>\n",
       "      <td>16.84</td>\n",
       "      <td>12.24</td>\n",
       "      <td>5.5</td>\n",
       "      <td>4.4</td>\n",
       "      <td>7.54</td>\n",
       "      <td>8.22</td>\n",
       "      <td>8.68</td>\n",
       "      <td>...</td>\n",
       "      <td>65.37</td>\n",
       "      <td>42.68</td>\n",
       "      <td>49.39</td>\n",
       "      <td>13.33</td>\n",
       "      <td>16.00</td>\n",
       "      <td>18.68</td>\n",
       "      <td>11.45</td>\n",
       "      <td>56.73</td>\n",
       "      <td>65.35</td>\n",
       "      <td>BR</td>\n",
       "    </tr>\n",
       "    <tr>\n",
       "      <th>1</th>\n",
       "      <td>Acre</td>\n",
       "      <td>95.65</td>\n",
       "      <td>95.88</td>\n",
       "      <td>4.35</td>\n",
       "      <td>4.12</td>\n",
       "      <td>5.7</td>\n",
       "      <td>4.6</td>\n",
       "      <td>6.79</td>\n",
       "      <td>7.09</td>\n",
       "      <td>14.14</td>\n",
       "      <td>...</td>\n",
       "      <td>56.96</td>\n",
       "      <td>42.41</td>\n",
       "      <td>46.01</td>\n",
       "      <td>11.99</td>\n",
       "      <td>14.08</td>\n",
       "      <td>19.62</td>\n",
       "      <td>12.39</td>\n",
       "      <td>58.42</td>\n",
       "      <td>64.57</td>\n",
       "      <td>N</td>\n",
       "    </tr>\n",
       "    <tr>\n",
       "      <th>2</th>\n",
       "      <td>Alagoas</td>\n",
       "      <td>83.04</td>\n",
       "      <td>85.48</td>\n",
       "      <td>16.96</td>\n",
       "      <td>14.52</td>\n",
       "      <td>4.9</td>\n",
       "      <td>3.9</td>\n",
       "      <td>5.89</td>\n",
       "      <td>6.38</td>\n",
       "      <td>19.79</td>\n",
       "      <td>...</td>\n",
       "      <td>51.24</td>\n",
       "      <td>30.57</td>\n",
       "      <td>36.08</td>\n",
       "      <td>8.07</td>\n",
       "      <td>10.23</td>\n",
       "      <td>18.19</td>\n",
       "      <td>15.72</td>\n",
       "      <td>45.59</td>\n",
       "      <td>55.83</td>\n",
       "      <td>NE</td>\n",
       "    </tr>\n",
       "    <tr>\n",
       "      <th>3</th>\n",
       "      <td>Amapá</td>\n",
       "      <td>90.87</td>\n",
       "      <td>92.23</td>\n",
       "      <td>9.13</td>\n",
       "      <td>7.77</td>\n",
       "      <td>4.4</td>\n",
       "      <td>3.5</td>\n",
       "      <td>8.12</td>\n",
       "      <td>8.70</td>\n",
       "      <td>6.09</td>\n",
       "      <td>...</td>\n",
       "      <td>53.61</td>\n",
       "      <td>53.34</td>\n",
       "      <td>56.53</td>\n",
       "      <td>14.62</td>\n",
       "      <td>18.23</td>\n",
       "      <td>27.55</td>\n",
       "      <td>17.95</td>\n",
       "      <td>61.03</td>\n",
       "      <td>67.28</td>\n",
       "      <td>N</td>\n",
       "    </tr>\n",
       "    <tr>\n",
       "      <th>4</th>\n",
       "      <td>Amazonas</td>\n",
       "      <td>92.86</td>\n",
       "      <td>96.15</td>\n",
       "      <td>7.14</td>\n",
       "      <td>3.85</td>\n",
       "      <td>5.3</td>\n",
       "      <td>4.4</td>\n",
       "      <td>7.69</td>\n",
       "      <td>8.50</td>\n",
       "      <td>7.48</td>\n",
       "      <td>...</td>\n",
       "      <td>61.87</td>\n",
       "      <td>47.52</td>\n",
       "      <td>55.40</td>\n",
       "      <td>9.93</td>\n",
       "      <td>14.73</td>\n",
       "      <td>18.87</td>\n",
       "      <td>12.55</td>\n",
       "      <td>50.03</td>\n",
       "      <td>66.63</td>\n",
       "      <td>N</td>\n",
       "    </tr>\n",
       "  </tbody>\n",
       "</table>\n",
       "<p>5 rows × 152 columns</p>\n",
       "</div>"
      ],
      "text/plain": [
       "  Territorialidades  \\\n",
       "0            Brasil   \n",
       "1              Acre   \n",
       "2           Alagoas   \n",
       "3             Amapá   \n",
       "4          Amazonas   \n",
       "\n",
       "   % de matrículas da rede pública no ensino fundamental 2017  \\\n",
       "0                                              83.16            \n",
       "1                                              95.65            \n",
       "2                                              83.04            \n",
       "3                                              90.87            \n",
       "4                                              92.86            \n",
       "\n",
       "   % de matrículas da rede pública no ensino médio 2017  \\\n",
       "0                                              87.76      \n",
       "1                                              95.88      \n",
       "2                                              85.48      \n",
       "3                                              92.23      \n",
       "4                                              96.15      \n",
       "\n",
       "   % de matrículas da rede privada no ensino fundamental 2017  \\\n",
       "0                                              16.84            \n",
       "1                                               4.35            \n",
       "2                                              16.96            \n",
       "3                                               9.13            \n",
       "4                                               7.14            \n",
       "\n",
       "   % de matrículas da rede privada no ensino médio 2017  \\\n",
       "0                                              12.24      \n",
       "1                                               4.12      \n",
       "2                                              14.52      \n",
       "3                                               7.77      \n",
       "4                                               3.85      \n",
       "\n",
       "   IDEB anos iniciais do ensino fundamental 2017  \\\n",
       "0                                            5.5   \n",
       "1                                            5.7   \n",
       "2                                            4.9   \n",
       "3                                            4.4   \n",
       "4                                            5.3   \n",
       "\n",
       "   IDEB anos finais do ensino fundamental 2017  Média de anos de estudo 2012  \\\n",
       "0                                          4.4                          7.54   \n",
       "1                                          4.6                          6.79   \n",
       "2                                          3.9                          5.89   \n",
       "3                                          3.5                          8.12   \n",
       "4                                          4.4                          7.69   \n",
       "\n",
       "   Média de anos de estudo 2017  \\\n",
       "0                          8.22   \n",
       "1                          7.09   \n",
       "2                          6.38   \n",
       "3                          8.70   \n",
       "4                          8.50   \n",
       "\n",
       "   Taxa de analfabetismo - 15 anos ou mais de idade 2012  ...  \\\n",
       "0                                               8.68      ...   \n",
       "1                                              14.14      ...   \n",
       "2                                              19.79      ...   \n",
       "3                                               6.09      ...   \n",
       "4                                               7.48      ...   \n",
       "\n",
       "   Desagregação MULHER % de 18 a 20 anos de idade com ensino médio completo PNAD...171  \\\n",
       "0                                              65.37                                     \n",
       "1                                              56.96                                     \n",
       "2                                              51.24                                     \n",
       "3                                              53.61                                     \n",
       "4                                              61.87                                     \n",
       "\n",
       "   Desagregação MULHER % de 25 anos ou mais de idade com ensino médio completo PNAD...172  \\\n",
       "0                                              42.68                                        \n",
       "1                                              42.41                                        \n",
       "2                                              30.57                                        \n",
       "3                                              53.34                                        \n",
       "4                                              47.52                                        \n",
       "\n",
       "   Desagregação MULHER % de 25 anos ou mais de idade com ensino médio completo PNAD...173  \\\n",
       "0                                              49.39                                        \n",
       "1                                              46.01                                        \n",
       "2                                              36.08                                        \n",
       "3                                              56.53                                        \n",
       "4                                              55.40                                        \n",
       "\n",
       "   Desagregação MULHER % de 25 anos ou mais de idade com ensino superior completo PNAD...174  \\\n",
       "0                                              13.33                                           \n",
       "1                                              11.99                                           \n",
       "2                                               8.07                                           \n",
       "3                                              14.62                                           \n",
       "4                                               9.93                                           \n",
       "\n",
       "   Desagregação MULHER % de 25 anos ou mais de idade com ensino superior completo PNAD...175  \\\n",
       "0                                              16.00                                           \n",
       "1                                              14.08                                           \n",
       "2                                              10.23                                           \n",
       "3                                              18.23                                           \n",
       "4                                              14.73                                           \n",
       "\n",
       "   Desagregação NEGRO % de 6 a 14 anos no ensino fundamental com 2 anos ou mais de atraso idade-série PNAD...176  \\\n",
       "0                                              18.68                                                               \n",
       "1                                              19.62                                                               \n",
       "2                                              18.19                                                               \n",
       "3                                              27.55                                                               \n",
       "4                                              18.87                                                               \n",
       "\n",
       "   Desagregação NEGRO % de 6 a 14 anos no ensino fundamental com 2 anos ou mais de atraso idade-série PNAD...177  \\\n",
       "0                                              11.45                                                               \n",
       "1                                              12.39                                                               \n",
       "2                                              15.72                                                               \n",
       "3                                              17.95                                                               \n",
       "4                                              12.55                                                               \n",
       "\n",
       "   Desagregação NEGRO % de 15 a 17 anos de idade com ensino fundamental completo PNAD...178  \\\n",
       "0                                              56.73                                          \n",
       "1                                              58.42                                          \n",
       "2                                              45.59                                          \n",
       "3                                              61.03                                          \n",
       "4                                              50.03                                          \n",
       "\n",
       "   Desagregação NEGRO % de 15 a 17 anos de idade com ensino fundamental completo PNAD...179  \\\n",
       "0                                              65.35                                          \n",
       "1                                              64.57                                          \n",
       "2                                              55.83                                          \n",
       "3                                              67.28                                          \n",
       "4                                              66.63                                          \n",
       "\n",
       "   regiões  \n",
       "0       BR  \n",
       "1        N  \n",
       "2       NE  \n",
       "3        N  \n",
       "4        N  \n",
       "\n",
       "[5 rows x 152 columns]"
      ]
     },
     "execution_count": 57,
     "metadata": {},
     "output_type": "execute_result"
    }
   ],
   "source": [
    "df = pd.read_csv(\"dados_educ.csv\")\n",
    "df.head()"
   ]
  },
  {
   "cell_type": "markdown",
   "metadata": {},
   "source": [
    "# Analfabetismo"
   ]
  },
  {
   "cell_type": "code",
   "execution_count": 18,
   "metadata": {},
   "outputs": [
    {
     "data": {
      "text/html": [
       "<div>\n",
       "<style scoped>\n",
       "    .dataframe tbody tr th:only-of-type {\n",
       "        vertical-align: middle;\n",
       "    }\n",
       "\n",
       "    .dataframe tbody tr th {\n",
       "        vertical-align: top;\n",
       "    }\n",
       "\n",
       "    .dataframe thead th {\n",
       "        text-align: right;\n",
       "    }\n",
       "</style>\n",
       "<table border=\"1\" class=\"dataframe\">\n",
       "  <thead>\n",
       "    <tr style=\"text-align: right;\">\n",
       "      <th></th>\n",
       "      <th>estado</th>\n",
       "      <th>região</th>\n",
       "      <th>analfabetismo 2012</th>\n",
       "      <th>analfabetismo 2017</th>\n",
       "    </tr>\n",
       "  </thead>\n",
       "  <tbody>\n",
       "    <tr>\n",
       "      <th>0</th>\n",
       "      <td>Brasil</td>\n",
       "      <td>BR</td>\n",
       "      <td>8.68</td>\n",
       "      <td>7.10</td>\n",
       "    </tr>\n",
       "    <tr>\n",
       "      <th>1</th>\n",
       "      <td>Acre</td>\n",
       "      <td>N</td>\n",
       "      <td>14.14</td>\n",
       "      <td>12.60</td>\n",
       "    </tr>\n",
       "    <tr>\n",
       "      <th>2</th>\n",
       "      <td>Alagoas</td>\n",
       "      <td>NE</td>\n",
       "      <td>19.79</td>\n",
       "      <td>18.19</td>\n",
       "    </tr>\n",
       "    <tr>\n",
       "      <th>3</th>\n",
       "      <td>Amapá</td>\n",
       "      <td>N</td>\n",
       "      <td>6.09</td>\n",
       "      <td>5.63</td>\n",
       "    </tr>\n",
       "    <tr>\n",
       "      <th>4</th>\n",
       "      <td>Amazonas</td>\n",
       "      <td>N</td>\n",
       "      <td>7.48</td>\n",
       "      <td>6.66</td>\n",
       "    </tr>\n",
       "  </tbody>\n",
       "</table>\n",
       "</div>"
      ],
      "text/plain": [
       "     estado região  analfabetismo 2012  analfabetismo 2017\n",
       "0    Brasil     BR                8.68                7.10\n",
       "1      Acre      N               14.14               12.60\n",
       "2   Alagoas     NE               19.79               18.19\n",
       "3     Amapá      N                6.09                5.63\n",
       "4  Amazonas      N                7.48                6.66"
      ]
     },
     "execution_count": 18,
     "metadata": {},
     "output_type": "execute_result"
    }
   ],
   "source": [
    "df_an = df[[\"Territorialidades\", \"regiões\", \"Taxa de analfabetismo - 15 anos ou mais de idade 2012\", \"Taxa de analfabetismo - 15 anos ou mais de idade 2017\"]]\n",
    "df_an.columns = [\"estado\", \"região\", \"analfabetismo 2012\", \"analfabetismo 2017\"]\n",
    "df_an.drop(0, axis = 0, inplace = True)\n",
    "df_an.head()"
   ]
  },
  {
   "cell_type": "code",
   "execution_count": 17,
   "metadata": {},
   "outputs": [
    {
     "data": {
      "image/png": "[encoded data removed]",
      "text/plain": [
       "<Figure size 432x288 with 1 Axes>"
      ]
     },
     "metadata": {
      "needs_background": "light"
     },
     "output_type": "display_data"
    }
   ],
   "source": [
    "df_an.groupby(\"região\").mean().plot(kind = \"bar\")\n",
    "plt.savefig('analfabetismo.png')"
   ]
  },
  {
   "cell_type": "code",
   "execution_count": 54,
   "metadata": {},
   "outputs": [
    {
     "name": "stderr",
     "output_type": "stream",
     "text": [
      "C:\\Users\\Bruno Marcelino\\anaconda3\\lib\\site-packages\\pandas\\core\\frame.py:4163: SettingWithCopyWarning: \n",
      "A value is trying to be set on a copy of a slice from a DataFrame\n",
      "\n",
      "See the caveats in the documentation: https://pandas.pydata.org/pandas-docs/stable/user_guide/indexing.html#returning-a-view-versus-a-copy\n",
      "  return super().drop(\n"
     ]
    },
    {
     "data": {
      "text/plain": [
       "<AxesSubplot:xlabel='região'>"
      ]
     },
     "execution_count": 54,
     "metadata": {},
     "output_type": "execute_result"
    },
    {
     "data": {
      "image/png": "[encoded data removed]",
      "text/plain": [
       "<Figure size 432x288 with 1 Axes>"
      ]
     },
     "metadata": {
      "needs_background": "light"
     },
     "output_type": "display_data"
    }
   ],
   "source": [
    "df_an = df[[\"Territorialidades\", \"regiões\", \"Média de anos de estudo 2017\",\n",
    "            \"IDEB anos iniciais do ensino fundamental 2017\"]]\n",
    "df_an.columns = [\"estado\", \"região\", \"média de estudo\", \"IDEB ensino fundamental\"]\n",
    "df_an.drop(0, axis = 0, inplace = True)\n",
    "df_an.groupby(\"região\").mean().plot(kind = \"bar\")"
   ]
  },
  {
   "cell_type": "code",
   "execution_count": 65,
   "metadata": {},
   "outputs": [
    {
     "name": "stderr",
     "output_type": "stream",
     "text": [
      "C:\\Users\\Bruno Marcelino\\anaconda3\\lib\\site-packages\\pandas\\core\\frame.py:4163: SettingWithCopyWarning: \n",
      "A value is trying to be set on a copy of a slice from a DataFrame\n",
      "\n",
      "See the caveats in the documentation: https://pandas.pydata.org/pandas-docs/stable/user_guide/indexing.html#returning-a-view-versus-a-copy\n",
      "  return super().drop(\n"
     ]
    },
    {
     "data": {
      "text/plain": [
       "<AxesSubplot:>"
      ]
     },
     "execution_count": 65,
     "metadata": {},
     "output_type": "execute_result"
    },
    {
     "data": {
      "image/png": "[encoded data removed]",
      "text/plain": [
       "<Figure size 432x288 with 1 Axes>"
      ]
     },
     "metadata": {
      "needs_background": "light"
     },
     "output_type": "display_data"
    }
   ],
   "source": [
    "df_an = df[[\"Territorialidades\", \"regiões\", \"Média de anos de estudo 2017\",\n",
    "            \"IDEB anos iniciais do ensino fundamental 2017\", \"Taxa de analfabetismo - 15 anos ou mais de idade 2017\"]]\n",
    "df_an.columns = [\"estado\", \"região\", \"média de estudo\", \"IDEB ensino fundamental\", \"analfabetismo 2017\"]\n",
    "df_an.drop(0, axis = 0, inplace = True)\n",
    "df_an[\"analfabetismo 2017\"].plot(kind = \"box\")"
   ]
  },
  {
   "cell_type": "code",
   "execution_count": 70,
   "metadata": {},
   "outputs": [
    {
     "data": {
      "text/plain": [
       "<AxesSubplot:ylabel='Frequency'>"
      ]
     },
     "execution_count": 70,
     "metadata": {},
     "output_type": "execute_result"
    },
    {
     "data": {
      "image/png": "[encoded data removed]",
      "text/plain": [
       "<Figure size 432x288 with 1 Axes>"
      ]
     },
     "metadata": {
      "needs_background": "light"
     },
     "output_type": "display_data"
    }
   ],
   "source": [
    "df_an = df[[\"Territorialidades\", \"regiões\", \"Média de anos de estudo 2017\",\n",
    "            \"IDEB anos iniciais do ensino fundamental 2017\", \"Taxa de analfabetismo - 15 anos ou mais de idade 2017\"]]\n",
    "df_an.columns = [\"estado\", \"região\", \"média de estudo\", \"IDEB ensino fundamental\", \"analfabetismo 2017\"]\n",
    "df_an.drop(0, axis = 0, inplace = True)\n",
    "df_an[\"média de estudo\"].plot(kind = \"hist\", bins = 6)"
   ]
  },
  {
   "cell_type": "code",
   "execution_count": 62,
   "metadata": {},
   "outputs": [
    {
     "name": "stderr",
     "output_type": "stream",
     "text": [
      "C:\\Users\\Bruno Marcelino\\anaconda3\\lib\\site-packages\\pandas\\core\\frame.py:4163: SettingWithCopyWarning: \n",
      "A value is trying to be set on a copy of a slice from a DataFrame\n",
      "\n",
      "See the caveats in the documentation: https://pandas.pydata.org/pandas-docs/stable/user_guide/indexing.html#returning-a-view-versus-a-copy\n",
      "  return super().drop(\n"
     ]
    },
    {
     "data": {
      "image/png": "[encoded data removed]",
      "text/plain": [
       "<Figure size 432x288 with 2 Axes>"
      ]
     },
     "metadata": {
      "needs_background": "light"
     },
     "output_type": "display_data"
    }
   ],
   "source": [
    "df_an = df[[\"Territorialidades\", \"regiões\", \"Média de anos de estudo 2017\",\n",
    "            \"IDEB anos iniciais do ensino fundamental 2017\", \"Taxa de analfabetismo - 15 anos ou mais de idade 2017\"]]\n",
    "df_an.columns = [\"estado\", \"região\", \"média de estudo\", \"IDEB ensino fundamental\", \"analfabetismo 2017\"]\n",
    "df_an.drop(0, axis = 0, inplace = True)\n",
    "sns.heatmap(df_an.corr(), cmap = \"coolwarm\", annot = True, linewidths = .6);"
   ]
  },
  {
   "cell_type": "markdown",
   "metadata": {},
   "source": [
    "# Segunda ideia: Média de anos de estudo\n",
    "\n",
    "* Desagregação HOMEM Média de anos de estudo PNAD\n",
    "* Desagregação MULHER Média de anos de estudo PNAD\n",
    "* Média de anos de estudo PNAD (Homem 2012/2017 x Mulher 2012/2017 x )"
   ]
  },
  {
   "cell_type": "code",
   "execution_count": 73,
   "metadata": {},
   "outputs": [],
   "source": [
    "df_an = df[[\"Territorialidades\", \"regiões\", \"Desagregação MULHER Média de anos de estudo PNAD...133\",\n",
    "            \"Desagregação HOMEM Média de anos de estudo PNAD...67\"]]\n",
    "df_an.columns = [\"estado\", \"região\", \"média mulheres\", \"média homens\"]\n",
    "df_an.drop(0, axis = 0, inplace = True)"
   ]
  },
  {
   "cell_type": "code",
   "execution_count": 81,
   "metadata": {},
   "outputs": [
    {
     "name": "stdout",
     "output_type": "stream",
     "text": [
      "5.49 0.023\n",
      "|P| < 0.05, logo há diferença entre as médias\n"
     ]
    }
   ],
   "source": [
    "# stats f_oneway functions takes the groups as input and returns ANOVA F and p value\n",
    "fvalue, pvalue = stats.f_oneway(df_an['média mulheres'], df_an['média homens'])\n",
    "print(round(fvalue,2), round(pvalue, 3))\n",
    "print(\"|P| < 0.05, logo há diferença entre as médias\")"
   ]
  },
  {
   "cell_type": "code",
   "execution_count": 82,
   "metadata": {},
   "outputs": [
    {
     "data": {
      "text/html": [
       "<div>\n",
       "<style scoped>\n",
       "    .dataframe tbody tr th:only-of-type {\n",
       "        vertical-align: middle;\n",
       "    }\n",
       "\n",
       "    .dataframe tbody tr th {\n",
       "        vertical-align: top;\n",
       "    }\n",
       "\n",
       "    .dataframe thead th {\n",
       "        text-align: right;\n",
       "    }\n",
       "</style>\n",
       "<table border=\"1\" class=\"dataframe\">\n",
       "  <thead>\n",
       "    <tr style=\"text-align: right;\">\n",
       "      <th></th>\n",
       "      <th>média mulheres</th>\n",
       "      <th>média homens</th>\n",
       "    </tr>\n",
       "  </thead>\n",
       "  <tbody>\n",
       "    <tr>\n",
       "      <th>count</th>\n",
       "      <td>27.00</td>\n",
       "      <td>27.00</td>\n",
       "    </tr>\n",
       "    <tr>\n",
       "      <th>mean</th>\n",
       "      <td>8.16</td>\n",
       "      <td>7.52</td>\n",
       "    </tr>\n",
       "    <tr>\n",
       "      <th>std</th>\n",
       "      <td>0.88</td>\n",
       "      <td>1.11</td>\n",
       "    </tr>\n",
       "    <tr>\n",
       "      <th>min</th>\n",
       "      <td>6.71</td>\n",
       "      <td>5.88</td>\n",
       "    </tr>\n",
       "    <tr>\n",
       "      <th>25%</th>\n",
       "      <td>7.49</td>\n",
       "      <td>6.70</td>\n",
       "    </tr>\n",
       "    <tr>\n",
       "      <th>50%</th>\n",
       "      <td>8.23</td>\n",
       "      <td>7.43</td>\n",
       "    </tr>\n",
       "    <tr>\n",
       "      <th>75%</th>\n",
       "      <td>8.63</td>\n",
       "      <td>8.24</td>\n",
       "    </tr>\n",
       "    <tr>\n",
       "      <th>max</th>\n",
       "      <td>10.46</td>\n",
       "      <td>10.18</td>\n",
       "    </tr>\n",
       "  </tbody>\n",
       "</table>\n",
       "</div>"
      ],
      "text/plain": [
       "       média mulheres  média homens\n",
       "count           27.00         27.00\n",
       "mean             8.16          7.52\n",
       "std              0.88          1.11\n",
       "min              6.71          5.88\n",
       "25%              7.49          6.70\n",
       "50%              8.23          7.43\n",
       "75%              8.63          8.24\n",
       "max             10.46         10.18"
      ]
     },
     "execution_count": 82,
     "metadata": {},
     "output_type": "execute_result"
    }
   ],
   "source": [
    "round(df_an.describe(), 2)"
   ]
  },
  {
   "cell_type": "code",
   "execution_count": null,
   "metadata": {},
   "outputs": [],
   "source": []
  }
 ],
 "metadata": {
  "kernelspec": {
   "display_name": "Python 3 (ipykernel)",
   "language": "python",
   "name": "python3"
  },
  "language_info": {
   "codemirror_mode": {
    "name": "ipython",
    "version": 3
   },
   "file_extension": ".py",
   "mimetype": "text/x-python",
   "name": "python",
   "nbconvert_exporter": "python",
   "pygments_lexer": "ipython3",
   "version": "3.8.5"
  }
 },
 "nbformat": 4,
 "nbformat_minor": 4
}
